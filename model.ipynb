{
 "cells": [
  {
   "cell_type": "code",
   "execution_count": 97,
   "metadata": {},
   "outputs": [],
   "source": [
    "import pandas as pd\n",
    "import numpy as np\n",
    "from nilearn import datasets\n",
    "from nilearn.input_data import NiftiMasker\n",
    "from sklearn import svm\n",
    "from sklearn.preprocessing import StandardScaler\n",
    "from sklearn.pipeline import make_pipeline\n",
    "from sklearn.pipeline import Pipeline\n",
    "from sklearn.multiclass import OneVsRestClassifier\n",
    "from sklearn.svm import SVC\n",
    "from sklearn.metrics import classification_report\n",
    "from sklearn.model_selection import train_test_split\n",
    "from sklearn.model_selection import GridSearchCV\n"
   ]
  },
  {
   "cell_type": "code",
   "execution_count": 44,
   "metadata": {},
   "outputs": [],
   "source": [
    "# Fetch Haxby dataset participants 1-4\n",
    "haxby_dataset = datasets.fetch_haxby(subjects=[1, 2, 3, 4])\n",
    "subjects = [0, 1, 2, 3]"
   ]
  },
  {
   "cell_type": "code",
   "execution_count": 33,
   "metadata": {},
   "outputs": [
    {
     "data": {
      "text/plain": [
       "'C:\\\\Users\\\\jorda/nilearn_data\\\\haxby2001\\\\subj1\\\\bold.nii.gz'"
      ]
     },
     "execution_count": 33,
     "metadata": {},
     "output_type": "execute_result"
    }
   ],
   "source": [
    "haxby_path[0]"
   ]
  },
  {
   "cell_type": "code",
   "execution_count": 43,
   "metadata": {},
   "outputs": [
    {
     "data": {
      "text/plain": [
       "'C:\\\\Users\\\\jorda/nilearn_data\\\\haxby2001\\\\subj1\\\\bold.nii.gz'"
      ]
     },
     "execution_count": 43,
     "metadata": {},
     "output_type": "execute_result"
    }
   ],
   "source": [
    "haxby_dataset.func[0]"
   ]
  },
  {
   "cell_type": "code",
   "execution_count": 71,
   "metadata": {},
   "outputs": [
    {
     "data": {
      "text/plain": [
       "(864, 23942)"
      ]
     },
     "execution_count": 71,
     "metadata": {},
     "output_type": "execute_result"
    }
   ],
   "source": [
    "fmri_masked[np.where(condition_idx)[0], :].shape"
   ]
  },
  {
   "cell_type": "code",
   "execution_count": 154,
   "metadata": {
    "scrolled": false
   },
   "outputs": [
    {
     "name": "stdout",
     "output_type": "stream",
     "text": [
      "*****\n",
      "\n",
      " Subject  1\n",
      "Fold:   0 |  62.50% | Done!\n",
      "Fold:   1 |  58.33% | Done!\n",
      "Fold:   2 |  52.78% | Done!\n",
      "Fold:   3 |  62.50% | Done!\n",
      "Fold:   4 |  69.44% | Done!\n",
      "Fold:   5 |  70.83% | Done!\n",
      "Fold:   6 |  59.72% | Done!\n",
      "Fold:   7 |  59.72% | Done!\n",
      "Fold:   8 |  68.06% | Done!\n",
      "Fold:   9 |  69.44% | Done!\n",
      "Fold:  10 |  59.72% | Done!\n",
      "Fold:  11 |  68.06% | Done!\n",
      "*****\n",
      "Final Accuracy:  63.43% \n",
      "*****\n",
      "\n",
      " Subject  2\n",
      "Fold:   0 |  38.89% | Done!\n",
      "Fold:   1 |  45.83% | Done!\n",
      "Fold:   2 |  56.94% | Done!\n",
      "Fold:   3 |  43.06% | Done!\n",
      "Fold:   4 |  62.50% | Done!\n",
      "Fold:   5 |  63.89% | Done!\n",
      "Fold:   6 |  55.56% | Done!\n",
      "Fold:   7 |  58.33% | Done!\n",
      "Fold:   8 |  58.33% | Done!\n",
      "Fold:   9 |  59.72% | Done!\n",
      "Fold:  10 |  59.72% | Done!\n",
      "Fold:  11 |  58.33% | Done!\n",
      "*****\n",
      "Final Accuracy:  55.09% \n",
      "*****\n",
      "\n",
      " Subject  3\n",
      "Fold:   0 |  55.56% | Done!\n",
      "Fold:   1 |  56.94% | Done!\n",
      "Fold:   2 |  55.56% | Done!\n",
      "Fold:   3 |  51.39% | Done!\n",
      "Fold:   4 |  62.50% | Done!\n",
      "Fold:   5 |  52.78% | Done!\n",
      "Fold:   6 |  50.00% | Done!\n",
      "Fold:   7 |  50.00% | Done!\n",
      "Fold:   8 |  52.78% | Done!\n",
      "Fold:   9 |  68.06% | Done!\n",
      "Fold:  10 |  59.72% | Done!\n",
      "Fold:  11 |  40.28% | Done!\n",
      "*****\n",
      "Final Accuracy:  54.63% \n",
      "*****\n",
      "\n",
      " Subject  4\n",
      "Fold:   0 |  48.61% | Done!\n",
      "Fold:   1 |  62.50% | Done!\n",
      "Fold:   2 |  47.22% | Done!\n",
      "Fold:   3 |  45.83% | Done!\n",
      "Fold:   4 |  54.17% | Done!\n",
      "Fold:   5 |  50.00% | Done!\n",
      "Fold:   6 |  59.72% | Done!\n",
      "Fold:   7 |  48.61% | Done!\n",
      "Fold:   8 |  48.61% | Done!\n",
      "Fold:   9 |  50.00% | Done!\n",
      "Fold:  10 |  37.50% | Done!\n",
      "Fold:  11 |  55.56% | Done!\n",
      "*****\n",
      "Final Accuracy:  50.69% \n"
     ]
    }
   ],
   "source": [
    "# 1.a Linear SVM for each subject\n",
    "\n",
    "scores_all = pd.DataFrame()\n",
    "\n",
    "for subject in subjects:\n",
    "    \n",
    "    haxby_path = haxby_dataset.func[subject]\n",
    "    behavioral = pd.read_csv(haxby_dataset.session_target[subject], sep=\" \")\n",
    "    runs_all = behavioral['chunks'].values\n",
    "    conditions_all = behavioral['labels'].values\n",
    "    nruns = len(np.unique(runs_all))\n",
    "\n",
    "    # select all conditions except rest\n",
    "    condition_idx = ~behavioral['labels'].isin(['rest'])\n",
    "    runs = runs_all[condition_idx]\n",
    "    conditions = conditions_all[condition_idx]\n",
    "\n",
    "    nifti_masker = NiftiMasker(standardize=True, runs=runs_all, detrend=True,\n",
    "                mask_strategy='epi', smoothing_fwhm=4, high_pass=1/128, t_r=2.5)\n",
    "\n",
    "\n",
    "    nifti_masker.fit(haxby_path)\n",
    "    mask_img = nifti_masker.mask_img_\n",
    "    fmri_masked = nifti_masker.transform(haxby_path)\n",
    "\n",
    "    cdata = fmri_masked[np.where(condition_idx)[0], :]\n",
    "\n",
    "    clf = make_pipeline(StandardScaler(), svm.LinearSVC(C=10, penalty='l2',\n",
    "                    multi_class='ovr', max_iter=5000, class_weight='balanced'))\n",
    "    fold_acc = np.empty([nruns])\n",
    "    \n",
    "    print('*****')\n",
    "    print('\\n Subject ', (subject + 1))\n",
    "    \n",
    "    for cfold in range(0, nruns):\n",
    "        test_data = cdata[np.where(runs == cfold)[0], :]\n",
    "        test_labels = conditions[np.where(runs == cfold)[0]]\n",
    "        train_data = cdata[np.where(runs != cfold)[0], :]\n",
    "        train_labels = conditions[np.where(runs != cfold)[0]]\n",
    "        cclf = clf.fit(train_data, train_labels)\n",
    "        fold_acc[cfold] = cclf.score(test_data, test_labels)\n",
    "        print('Fold: {0:3d}'.format(cfold), end='')\n",
    "        print(' | {0:6.2f}'.format(fold_acc[cfold]*100), end='%')\n",
    "        print(' | Done!')\n",
    "  \n",
    "    \n",
    "    scores_all[subject] = fold_acc\n",
    "    \n",
    "    \n",
    "    print('*****')\n",
    "    print('Final Accuracy: {0:6.2f}'.format(np.mean(fold_acc)*100), end='%')\n",
    "    print(' ')\n",
    "    \n",
    "    "
   ]
  },
  {
   "cell_type": "code",
   "execution_count": null,
   "metadata": {},
   "outputs": [],
   "source": [
    "from sklearn.model_selection import cross_val_score\n",
    "cv_scores = cross_val_score(clf, cdata, conditions, cv=5, scoring='roc_auc')"
   ]
  },
  {
   "cell_type": "code",
   "execution_count": 147,
   "metadata": {},
   "outputs": [
    {
     "data": {
      "text/plain": [
       "<matplotlib.axes._subplots.AxesSubplot at 0x20d82191b50>"
      ]
     },
     "execution_count": 147,
     "metadata": {},
     "output_type": "execute_result"
    },
    {
     "data": {
      "image/png": "[encoded data removed]",
      "text/plain": [
       "<Figure size 432x288 with 1 Axes>"
      ]
     },
     "metadata": {
      "needs_background": "light"
     },
     "output_type": "display_data"
    }
   ],
   "source": [
    "scores_all.plot(kind='box')\n"
   ]
  },
  {
   "cell_type": "code",
   "execution_count": 150,
   "metadata": {},
   "outputs": [
    {
     "name": "stdout",
     "output_type": "stream",
     "text": [
      "*****\n",
      "\n",
      " Subject  1\n",
      "Fold:   0 |  55.56% | Done!\n",
      "Fold:   1 |  58.33% | Done!\n",
      "Fold:   2 |  51.39% | Done!\n",
      "Fold:   3 |  59.72% | Done!\n",
      "Fold:   4 |  59.72% | Done!\n",
      "Fold:   5 |  68.06% | Done!\n",
      "Fold:   6 |  56.94% | Done!\n",
      "Fold:   7 |  50.00% | Done!\n",
      "Fold:   8 |  68.06% | Done!\n",
      "Fold:   9 |  72.22% | Done!\n",
      "Fold:  10 |  54.17% | Done!\n",
      "Fold:  11 |  63.89% | Done!\n",
      "*****\n",
      "Final Accuracy:  59.84%*****\n",
      "\n",
      " Subject  2\n",
      "Fold:   0 |  29.17% | Done!\n",
      "Fold:   1 |  41.67% | Done!\n",
      "Fold:   2 |  59.72% | Done!\n",
      "Fold:   3 |  33.33% | Done!\n",
      "Fold:   4 |  56.94% | Done!\n",
      "Fold:   5 |  59.72% | Done!\n",
      "Fold:   6 |  51.39% | Done!\n",
      "Fold:   7 |  56.94% | Done!\n",
      "Fold:   8 |  45.83% | Done!\n",
      "Fold:   9 |  51.39% | Done!\n",
      "Fold:  10 |  58.33% | Done!\n",
      "Fold:  11 |  48.61% | Done!\n",
      "*****\n",
      "Final Accuracy:  49.42%*****\n",
      "\n",
      " Subject  3\n",
      "Fold:   0 |  54.17% | Done!\n",
      "Fold:   1 |  58.33% | Done!\n",
      "Fold:   2 |  51.39% | Done!\n",
      "Fold:   3 |  50.00% | Done!\n",
      "Fold:   4 |  55.56% | Done!\n",
      "Fold:   5 |  40.28% | Done!\n",
      "Fold:   6 |  38.89% | Done!\n",
      "Fold:   7 |  48.61% | Done!\n",
      "Fold:   8 |  55.56% | Done!\n",
      "Fold:   9 |  61.11% | Done!\n",
      "Fold:  10 |  51.39% | Done!\n",
      "Fold:  11 |  38.89% | Done!\n",
      "*****\n",
      "Final Accuracy:  50.35%*****\n",
      "\n",
      " Subject  4\n",
      "Fold:   0 |  52.78% | Done!\n",
      "Fold:   1 |  55.56% | Done!\n",
      "Fold:   2 |  44.44% | Done!\n",
      "Fold:   3 |  37.50% | Done!\n",
      "Fold:   4 |  48.61% | Done!\n",
      "Fold:   5 |  51.39% | Done!\n",
      "Fold:   6 |  51.39% | Done!\n",
      "Fold:   7 |  61.11% | Done!\n",
      "Fold:   8 |  37.50% | Done!\n",
      "Fold:   9 |  45.83% | Done!\n",
      "Fold:  10 |  34.72% | Done!\n",
      "Fold:  11 |  47.22% | Done!\n",
      "*****\n",
      "Final Accuracy:  47.34%"
     ]
    }
   ],
   "source": [
    "# 1.a Logistic Regression for each subject\n",
    "from sklearn.linear_model import LogisticRegression\n",
    "\n",
    "scores_logreg = pd.DataFrame()\n",
    "\n",
    "for subject in subjects:\n",
    "    \n",
    "    haxby_path = haxby_dataset.func[subject]\n",
    "    behavioral = pd.read_csv(haxby_dataset.session_target[subject], sep=\" \")\n",
    "    runs_all = behavioral['chunks'].values\n",
    "    conditions_all = behavioral['labels'].values\n",
    "    nruns = len(np.unique(runs_all))\n",
    "\n",
    "    # select all conditions except rest\n",
    "    condition_idx = ~behavioral['labels'].isin(['rest'])\n",
    "    runs = runs_all[condition_idx]\n",
    "    conditions = conditions_all[condition_idx]\n",
    "\n",
    "    nifti_masker = NiftiMasker(standardize=True, runs=runs_all, detrend=True,\n",
    "                mask_strategy='epi', smoothing_fwhm=4, high_pass=1/128, t_r=2.5)\n",
    "\n",
    "\n",
    "    nifti_masker.fit(haxby_path)\n",
    "    mask_img = nifti_masker.mask_img_\n",
    "    fmri_masked = nifti_masker.transform(haxby_path)\n",
    "\n",
    "    cdata = fmri_masked[np.where(condition_idx)[0], :]\n",
    "\n",
    "    clf = make_pipeline(StandardScaler(), LogisticRegression(penalty='l2', solver='sag', max_iter=5000, random_state=42,\n",
    "                             multi_class='multinomial'))\n",
    "    \n",
    "    fold_acc = np.empty([nruns])\n",
    "    \n",
    "    print('*****')\n",
    "    print('\\n Subject ', (subject + 1))\n",
    "    \n",
    "    for cfold in range(0, nruns):\n",
    "        test_data = cdata[np.where(runs == cfold)[0], :]\n",
    "        test_labels = conditions[np.where(runs == cfold)[0]]\n",
    "        train_data = cdata[np.where(runs != cfold)[0], :]\n",
    "        train_labels = conditions[np.where(runs != cfold)[0]]\n",
    "        cclf = clf.fit(train_data, train_labels)\n",
    "        fold_acc[cfold] = cclf.score(test_data, test_labels)\n",
    "        print('Fold: {0:3d}'.format(cfold), end='')\n",
    "        print(' | {0:6.2f}'.format(fold_acc[cfold]*100), end='%')\n",
    "        print(' | Done!')\n",
    "        \n",
    "    scores_logreg[subject] = fold_acc\n",
    "\n",
    "    print('*****')\n",
    "    print('Final Accuracy: {0:6.2f}'.format(np.mean(fold_acc)*100), end='%')\n",
    "\n",
    "    \n",
    "    "
   ]
  },
  {
   "cell_type": "code",
   "execution_count": 151,
   "metadata": {
    "scrolled": false
   },
   "outputs": [
    {
     "data": {
      "text/plain": [
       "<matplotlib.axes._subplots.AxesSubplot at 0x20d81ffd6d0>"
      ]
     },
     "execution_count": 151,
     "metadata": {},
     "output_type": "execute_result"
    },
    {
     "data": {
      "image/png": "[encoded data removed]",
      "text/plain": [
       "<Figure size 432x288 with 1 Axes>"
      ]
     },
     "metadata": {
      "needs_background": "light"
     },
     "output_type": "display_data"
    }
   ],
   "source": [
    "scores_logreg.plot(kind='box')\n"
   ]
  },
  {
   "cell_type": "code",
   "execution_count": 173,
   "metadata": {},
   "outputs": [
    {
     "data": {
      "text/plain": [
       "0.0023067772633744875"
      ]
     },
     "execution_count": 173,
     "metadata": {},
     "output_type": "execute_result"
    }
   ],
   "source": [
    "np.var(np.mean(scores_logreg))"
   ]
  },
  {
   "cell_type": "code",
   "execution_count": 171,
   "metadata": {},
   "outputs": [
    {
     "data": {
      "text/plain": [
       "<matplotlib.axes._subplots.AxesSubplot at 0x20d82a64c70>"
      ]
     },
     "execution_count": 171,
     "metadata": {},
     "output_type": "execute_result"
    },
    {
     "data": {
      "image/png": "[encoded data removed]",
      "text/plain": [
       "<Figure size 432x288 with 1 Axes>"
      ]
     },
     "metadata": {
      "needs_background": "light"
     },
     "output_type": "display_data"
    }
   ],
   "source": [
    "decoding = pd.DataFrame()\n",
    "decoding['logreg'] = np.mean(scores_logreg)\n",
    "decoding['svc'] = np.mean(scores_all)\n",
    "decoding.plot(kind='box')"
   ]
  },
  {
   "cell_type": "code",
   "execution_count": 83,
   "metadata": {},
   "outputs": [
    {
     "name": "stdout",
     "output_type": "stream",
     "text": [
      "*****\n",
      "\n",
      " Subject  1\n",
      "0.45\n",
      "              precision    recall  f1-score   support\n",
      "\n",
      "      bottle       0.33      0.38      0.35        34\n",
      "         cat       0.44      0.46      0.45        26\n",
      "       chair       0.21      0.14      0.17        35\n",
      "        face       0.67      0.71      0.69        28\n",
      "       house       0.64      0.84      0.73        32\n",
      "    scissors       0.39      0.31      0.34        39\n",
      "scrambledpix       0.55      0.57      0.56        30\n",
      "        shoe       0.31      0.31      0.31        36\n",
      "\n",
      "    accuracy                           0.45       260\n",
      "   macro avg       0.44      0.47      0.45       260\n",
      "weighted avg       0.43      0.45      0.44       260\n",
      "\n",
      "*****\n",
      "\n",
      " Subject  2\n",
      "0.31153846153846154\n",
      "              precision    recall  f1-score   support\n",
      "\n",
      "      bottle       0.14      0.12      0.13        32\n",
      "         cat       0.13      0.08      0.10        25\n",
      "       chair       0.27      0.29      0.28        34\n",
      "        face       0.41      0.42      0.41        31\n",
      "       house       0.58      0.68      0.63        31\n",
      "    scissors       0.28      0.18      0.22        45\n",
      "scrambledpix       0.37      0.55      0.44        29\n",
      "        shoe       0.18      0.21      0.19        33\n",
      "\n",
      "    accuracy                           0.31       260\n",
      "   macro avg       0.29      0.32      0.30       260\n",
      "weighted avg       0.30      0.31      0.30       260\n",
      "\n",
      "*****\n",
      "\n",
      " Subject  3\n",
      "0.29615384615384616\n",
      "              precision    recall  f1-score   support\n",
      "\n",
      "      bottle       0.16      0.14      0.15        36\n",
      "         cat       0.19      0.14      0.16        35\n",
      "       chair       0.05      0.03      0.03        36\n",
      "        face       0.47      0.56      0.51        27\n",
      "       house       0.50      0.79      0.61        28\n",
      "    scissors       0.19      0.15      0.16        34\n",
      "scrambledpix       0.35      0.55      0.42        31\n",
      "        shoe       0.26      0.21      0.23        33\n",
      "\n",
      "    accuracy                           0.30       260\n",
      "   macro avg       0.27      0.32      0.29       260\n",
      "weighted avg       0.25      0.30      0.27       260\n",
      "\n",
      "*****\n",
      "\n",
      " Subject  4\n",
      "0.4423076923076923\n",
      "              precision    recall  f1-score   support\n",
      "\n",
      "      bottle       0.27      0.30      0.29        30\n",
      "         cat       0.32      0.17      0.22        36\n",
      "       chair       0.44      0.40      0.42        30\n",
      "        face       0.58      0.73      0.65        30\n",
      "       house       0.65      0.78      0.71        36\n",
      "    scissors       0.33      0.21      0.25        34\n",
      "scrambledpix       0.51      0.81      0.62        36\n",
      "        shoe       0.09      0.07      0.08        28\n",
      "\n",
      "    accuracy                           0.44       260\n",
      "   macro avg       0.40      0.43      0.40       260\n",
      "weighted avg       0.41      0.44      0.41       260\n",
      "\n"
     ]
    }
   ],
   "source": [
    "# 1.b Decoding accuracy for each condition\n",
    "\n",
    "for subject in subjects:\n",
    "    \n",
    "    haxby_path = haxby_dataset.func[subject]\n",
    "    behavioral = pd.read_csv(haxby_dataset.session_target[subject], sep=\" \")\n",
    "    runs_all = behavioral['chunks'].values\n",
    "    conditions_all = behavioral['labels'].values\n",
    "    nruns = len(np.unique(runs_all))\n",
    "\n",
    "    # select all conditions except rest\n",
    "    condition_idx = ~behavioral['labels'].isin(['rest'])\n",
    "    runs = runs_all[condition_idx]\n",
    "    conditions = conditions_all[condition_idx]\n",
    "\n",
    "    nifti_masker = NiftiMasker(standardize=True, runs=runs_all, detrend=True,\n",
    "                mask_strategy='epi', smoothing_fwhm=4, high_pass=1/128, t_r=2.5)\n",
    "\n",
    "\n",
    "    nifti_masker.fit(haxby_path)\n",
    "    mask_img = nifti_masker.mask_img_\n",
    "    fmri_masked = nifti_masker.transform(haxby_path)\n",
    "\n",
    "    cdata = fmri_masked[np.where(condition_idx)[0], :]\n",
    "\n",
    "    clf = make_pipeline(StandardScaler(), svm.LinearSVC(C=1., penalty='l2',\n",
    "                    multi_class='ovr', max_iter=5000, class_weight='balanced'))\n",
    "    \n",
    "    train_data, test_data, train_labels, test_labels = train_test_split(cdata, conditions, test_size=0.3, random_state=42)\n",
    "    clf.fit(train_data, train_labels)\n",
    "    \n",
    "    # looking at each condition, faces and houses are generally decoded the best\n",
    "    # results below show precision: true positives / (true positives + false positives)\n",
    "    # and recall: true positives  / (true positives + false negatives)\n",
    "    \n",
    "    print('*****')\n",
    "    print('\\n Subject ', (subject + 1))\n",
    "    \n",
    "    pred = clf.predict(test_data)\n",
    "    print(classification_report(test_labels, pred))"
   ]
  },
  {
   "cell_type": "code",
   "execution_count": null,
   "metadata": {},
   "outputs": [],
   "source": []
  },
  {
   "cell_type": "code",
   "execution_count": 86,
   "metadata": {},
   "outputs": [
    {
     "name": "stdout",
     "output_type": "stream",
     "text": [
      "*****\n",
      "\n",
      " Subject  1\n",
      "Fold:   0 |  58.33% | Done!\n",
      "Fold:   1 |  63.89% | Done!\n",
      "Fold:   2 |  56.94% | Done!\n",
      "Fold:   3 |  63.89% | Done!\n",
      "Fold:   4 |  69.44% | Done!\n",
      "Fold:   5 |  70.83% | Done!\n",
      "Fold:   6 |  56.94% | Done!\n",
      "Fold:   7 |  56.94% | Done!\n",
      "Fold:   8 |  69.44% | Done!\n",
      "Fold:   9 |  73.61% | Done!\n",
      "Fold:  10 |  58.33% | Done!\n",
      "Fold:  11 |  61.11% | Done!\n",
      "*****\n",
      "Final Accuracy:  63.31%*****\n",
      "\n",
      " Subject  2\n",
      "Fold:   0 |  38.89% | Done!\n",
      "Fold:   1 |  44.44% | Done!\n",
      "Fold:   2 |  63.89% | Done!\n",
      "Fold:   3 |  38.89% | Done!\n",
      "Fold:   4 |  61.11% | Done!\n",
      "Fold:   5 |  62.50% | Done!\n",
      "Fold:   6 |  58.33% | Done!\n",
      "Fold:   7 |  59.72% | Done!\n",
      "Fold:   8 |  51.39% | Done!\n",
      "Fold:   9 |  59.72% | Done!\n",
      "Fold:  10 |  63.89% | Done!\n",
      "Fold:  11 |  50.00% | Done!\n",
      "*****\n",
      "Final Accuracy:  54.40%"
     ]
    },
    {
     "ename": "KeyboardInterrupt",
     "evalue": "",
     "output_type": "error",
     "traceback": [
      "\u001b[1;31m---------------------------------------------------------------------------\u001b[0m",
      "\u001b[1;31mKeyboardInterrupt\u001b[0m                         Traceback (most recent call last)",
      "\u001b[1;32m<ipython-input-86-aa39864274d2>\u001b[0m in \u001b[0;36m<module>\u001b[1;34m\u001b[0m\n\u001b[0;32m     18\u001b[0m \u001b[1;33m\u001b[0m\u001b[0m\n\u001b[0;32m     19\u001b[0m \u001b[1;33m\u001b[0m\u001b[0m\n\u001b[1;32m---> 20\u001b[1;33m     \u001b[0mnifti_masker\u001b[0m\u001b[1;33m.\u001b[0m\u001b[0mfit\u001b[0m\u001b[1;33m(\u001b[0m\u001b[0mhaxby_path\u001b[0m\u001b[1;33m)\u001b[0m\u001b[1;33m\u001b[0m\u001b[1;33m\u001b[0m\u001b[0m\n\u001b[0m\u001b[0;32m     21\u001b[0m     \u001b[0mmask_img\u001b[0m \u001b[1;33m=\u001b[0m \u001b[0mnifti_masker\u001b[0m\u001b[1;33m.\u001b[0m\u001b[0mmask_img_\u001b[0m\u001b[1;33m\u001b[0m\u001b[1;33m\u001b[0m\u001b[0m\n\u001b[0;32m     22\u001b[0m     \u001b[0mfmri_masked\u001b[0m \u001b[1;33m=\u001b[0m \u001b[0mnifti_masker\u001b[0m\u001b[1;33m.\u001b[0m\u001b[0mtransform\u001b[0m\u001b[1;33m(\u001b[0m\u001b[0mhaxby_path\u001b[0m\u001b[1;33m)\u001b[0m\u001b[1;33m\u001b[0m\u001b[1;33m\u001b[0m\u001b[0m\n",
      "\u001b[1;32m~\\AppData\\Roaming\\Python\\Python38\\site-packages\\nilearn\\input_data\\nifti_masker.py\u001b[0m in \u001b[0;36mfit\u001b[1;34m(self, imgs, y)\u001b[0m\n\u001b[0;32m    405\u001b[0m             \u001b[1;32mif\u001b[0m \u001b[0mself\u001b[0m\u001b[1;33m.\u001b[0m\u001b[0mverbose\u001b[0m \u001b[1;33m>\u001b[0m \u001b[1;36m0\u001b[0m\u001b[1;33m:\u001b[0m\u001b[1;33m\u001b[0m\u001b[1;33m\u001b[0m\u001b[0m\n\u001b[0;32m    406\u001b[0m                 \u001b[0mprint\u001b[0m\u001b[1;33m(\u001b[0m\u001b[1;34m\"[%s.fit] Computing the mask\"\u001b[0m \u001b[1;33m%\u001b[0m \u001b[0mself\u001b[0m\u001b[1;33m.\u001b[0m\u001b[0m__class__\u001b[0m\u001b[1;33m.\u001b[0m\u001b[0m__name__\u001b[0m\u001b[1;33m)\u001b[0m\u001b[1;33m\u001b[0m\u001b[1;33m\u001b[0m\u001b[0m\n\u001b[1;32m--> 407\u001b[1;33m             self.mask_img_ = self._cache(compute_mask, ignore=['verbose'])(\n\u001b[0m\u001b[0;32m    408\u001b[0m                 imgs, verbose=max(0, self.verbose - 1), **mask_args)\n\u001b[0;32m    409\u001b[0m         \u001b[1;32melse\u001b[0m\u001b[1;33m:\u001b[0m\u001b[1;33m\u001b[0m\u001b[1;33m\u001b[0m\u001b[0m\n",
      "\u001b[1;32m~\\anaconda3\\lib\\site-packages\\joblib\\memory.py\u001b[0m in \u001b[0;36m__call__\u001b[1;34m(self, *args, **kwargs)\u001b[0m\n\u001b[0;32m    350\u001b[0m \u001b[1;33m\u001b[0m\u001b[0m\n\u001b[0;32m    351\u001b[0m     \u001b[1;32mdef\u001b[0m \u001b[0m__call__\u001b[0m\u001b[1;33m(\u001b[0m\u001b[0mself\u001b[0m\u001b[1;33m,\u001b[0m \u001b[1;33m*\u001b[0m\u001b[0margs\u001b[0m\u001b[1;33m,\u001b[0m \u001b[1;33m**\u001b[0m\u001b[0mkwargs\u001b[0m\u001b[1;33m)\u001b[0m\u001b[1;33m:\u001b[0m\u001b[1;33m\u001b[0m\u001b[1;33m\u001b[0m\u001b[0m\n\u001b[1;32m--> 352\u001b[1;33m         \u001b[1;32mreturn\u001b[0m \u001b[0mself\u001b[0m\u001b[1;33m.\u001b[0m\u001b[0mfunc\u001b[0m\u001b[1;33m(\u001b[0m\u001b[1;33m*\u001b[0m\u001b[0margs\u001b[0m\u001b[1;33m,\u001b[0m \u001b[1;33m**\u001b[0m\u001b[0mkwargs\u001b[0m\u001b[1;33m)\u001b[0m\u001b[1;33m\u001b[0m\u001b[1;33m\u001b[0m\u001b[0m\n\u001b[0m\u001b[0;32m    353\u001b[0m \u001b[1;33m\u001b[0m\u001b[0m\n\u001b[0;32m    354\u001b[0m     \u001b[1;32mdef\u001b[0m \u001b[0mcall_and_shelve\u001b[0m\u001b[1;33m(\u001b[0m\u001b[0mself\u001b[0m\u001b[1;33m,\u001b[0m \u001b[1;33m*\u001b[0m\u001b[0margs\u001b[0m\u001b[1;33m,\u001b[0m \u001b[1;33m**\u001b[0m\u001b[0mkwargs\u001b[0m\u001b[1;33m)\u001b[0m\u001b[1;33m:\u001b[0m\u001b[1;33m\u001b[0m\u001b[1;33m\u001b[0m\u001b[0m\n",
      "\u001b[1;32m~\\AppData\\Roaming\\Python\\Python38\\site-packages\\nilearn\\masking.py\u001b[0m in \u001b[0;36mcompute_epi_mask\u001b[1;34m(epi_img, lower_cutoff, upper_cutoff, connected, opening, exclude_zeros, ensure_finite, target_affine, target_shape, memory, verbose)\u001b[0m\n\u001b[0;32m    263\u001b[0m     \u001b[1;32mfrom\u001b[0m \u001b[1;33m.\u001b[0m\u001b[0mimage\u001b[0m\u001b[1;33m.\u001b[0m\u001b[0mimage\u001b[0m \u001b[1;32mimport\u001b[0m \u001b[0m_compute_mean\u001b[0m\u001b[1;33m\u001b[0m\u001b[1;33m\u001b[0m\u001b[0m\n\u001b[0;32m    264\u001b[0m     \u001b[0mmean_epi\u001b[0m\u001b[1;33m,\u001b[0m \u001b[0maffine\u001b[0m \u001b[1;33m=\u001b[0m\u001b[0;31m \u001b[0m\u001b[0;31m\\\u001b[0m\u001b[1;33m\u001b[0m\u001b[1;33m\u001b[0m\u001b[0m\n\u001b[1;32m--> 265\u001b[1;33m         cache(_compute_mean, memory)(epi_img, target_affine=target_affine,\n\u001b[0m\u001b[0;32m    266\u001b[0m                                      \u001b[0mtarget_shape\u001b[0m\u001b[1;33m=\u001b[0m\u001b[0mtarget_shape\u001b[0m\u001b[1;33m,\u001b[0m\u001b[1;33m\u001b[0m\u001b[1;33m\u001b[0m\u001b[0m\n\u001b[0;32m    267\u001b[0m                                      smooth=(1 if opening else False))\n",
      "\u001b[1;32m~\\anaconda3\\lib\\site-packages\\joblib\\memory.py\u001b[0m in \u001b[0;36m__call__\u001b[1;34m(self, *args, **kwargs)\u001b[0m\n\u001b[0;32m    350\u001b[0m \u001b[1;33m\u001b[0m\u001b[0m\n\u001b[0;32m    351\u001b[0m     \u001b[1;32mdef\u001b[0m \u001b[0m__call__\u001b[0m\u001b[1;33m(\u001b[0m\u001b[0mself\u001b[0m\u001b[1;33m,\u001b[0m \u001b[1;33m*\u001b[0m\u001b[0margs\u001b[0m\u001b[1;33m,\u001b[0m \u001b[1;33m**\u001b[0m\u001b[0mkwargs\u001b[0m\u001b[1;33m)\u001b[0m\u001b[1;33m:\u001b[0m\u001b[1;33m\u001b[0m\u001b[1;33m\u001b[0m\u001b[0m\n\u001b[1;32m--> 352\u001b[1;33m         \u001b[1;32mreturn\u001b[0m \u001b[0mself\u001b[0m\u001b[1;33m.\u001b[0m\u001b[0mfunc\u001b[0m\u001b[1;33m(\u001b[0m\u001b[1;33m*\u001b[0m\u001b[0margs\u001b[0m\u001b[1;33m,\u001b[0m \u001b[1;33m**\u001b[0m\u001b[0mkwargs\u001b[0m\u001b[1;33m)\u001b[0m\u001b[1;33m\u001b[0m\u001b[1;33m\u001b[0m\u001b[0m\n\u001b[0m\u001b[0;32m    353\u001b[0m \u001b[1;33m\u001b[0m\u001b[0m\n\u001b[0;32m    354\u001b[0m     \u001b[1;32mdef\u001b[0m \u001b[0mcall_and_shelve\u001b[0m\u001b[1;33m(\u001b[0m\u001b[0mself\u001b[0m\u001b[1;33m,\u001b[0m \u001b[1;33m*\u001b[0m\u001b[0margs\u001b[0m\u001b[1;33m,\u001b[0m \u001b[1;33m**\u001b[0m\u001b[0mkwargs\u001b[0m\u001b[1;33m)\u001b[0m\u001b[1;33m:\u001b[0m\u001b[1;33m\u001b[0m\u001b[1;33m\u001b[0m\u001b[0m\n",
      "\u001b[1;32m~\\AppData\\Roaming\\Python\\Python38\\site-packages\\nilearn\\image\\image.py\u001b[0m in \u001b[0;36m_compute_mean\u001b[1;34m(imgs, target_affine, target_shape, smooth)\u001b[0m\n\u001b[0;32m    473\u001b[0m     \u001b[0minput_repr\u001b[0m \u001b[1;33m=\u001b[0m \u001b[0m_repr_niimgs\u001b[0m\u001b[1;33m(\u001b[0m\u001b[0mimgs\u001b[0m\u001b[1;33m,\u001b[0m \u001b[0mshorten\u001b[0m\u001b[1;33m=\u001b[0m\u001b[1;32mTrue\u001b[0m\u001b[1;33m)\u001b[0m\u001b[1;33m\u001b[0m\u001b[1;33m\u001b[0m\u001b[0m\n\u001b[0;32m    474\u001b[0m \u001b[1;33m\u001b[0m\u001b[0m\n\u001b[1;32m--> 475\u001b[1;33m     \u001b[0mimgs\u001b[0m \u001b[1;33m=\u001b[0m \u001b[0mcheck_niimg\u001b[0m\u001b[1;33m(\u001b[0m\u001b[0mimgs\u001b[0m\u001b[1;33m)\u001b[0m\u001b[1;33m\u001b[0m\u001b[1;33m\u001b[0m\u001b[0m\n\u001b[0m\u001b[0;32m    476\u001b[0m     \u001b[0mmean_data\u001b[0m \u001b[1;33m=\u001b[0m \u001b[0m_safe_get_data\u001b[0m\u001b[1;33m(\u001b[0m\u001b[0mimgs\u001b[0m\u001b[1;33m)\u001b[0m\u001b[1;33m\u001b[0m\u001b[1;33m\u001b[0m\u001b[0m\n\u001b[0;32m    477\u001b[0m     \u001b[0maffine\u001b[0m \u001b[1;33m=\u001b[0m \u001b[0mimgs\u001b[0m\u001b[1;33m.\u001b[0m\u001b[0maffine\u001b[0m\u001b[1;33m\u001b[0m\u001b[1;33m\u001b[0m\u001b[0m\n",
      "\u001b[1;32m~\\AppData\\Roaming\\Python\\Python38\\site-packages\\nilearn\\_utils\\niimg_conversions.py\u001b[0m in \u001b[0;36mcheck_niimg\u001b[1;34m(niimg, ensure_ndim, atleast_4d, dtype, return_iterator, wildcards)\u001b[0m\n\u001b[0;32m    281\u001b[0m \u001b[1;33m\u001b[0m\u001b[0m\n\u001b[0;32m    282\u001b[0m     \u001b[1;31m# Otherwise, it should be a filename or a SpatialImage, we load it\u001b[0m\u001b[1;33m\u001b[0m\u001b[1;33m\u001b[0m\u001b[1;33m\u001b[0m\u001b[0m\n\u001b[1;32m--> 283\u001b[1;33m     \u001b[0mniimg\u001b[0m \u001b[1;33m=\u001b[0m \u001b[0mload_niimg\u001b[0m\u001b[1;33m(\u001b[0m\u001b[0mniimg\u001b[0m\u001b[1;33m,\u001b[0m \u001b[0mdtype\u001b[0m\u001b[1;33m=\u001b[0m\u001b[0mdtype\u001b[0m\u001b[1;33m)\u001b[0m\u001b[1;33m\u001b[0m\u001b[1;33m\u001b[0m\u001b[0m\n\u001b[0m\u001b[0;32m    284\u001b[0m \u001b[1;33m\u001b[0m\u001b[0m\n\u001b[0;32m    285\u001b[0m     \u001b[1;32mif\u001b[0m \u001b[0mensure_ndim\u001b[0m \u001b[1;33m==\u001b[0m \u001b[1;36m3\u001b[0m \u001b[1;32mand\u001b[0m \u001b[0mlen\u001b[0m\u001b[1;33m(\u001b[0m\u001b[0mniimg\u001b[0m\u001b[1;33m.\u001b[0m\u001b[0mshape\u001b[0m\u001b[1;33m)\u001b[0m \u001b[1;33m==\u001b[0m \u001b[1;36m4\u001b[0m \u001b[1;32mand\u001b[0m \u001b[0mniimg\u001b[0m\u001b[1;33m.\u001b[0m\u001b[0mshape\u001b[0m\u001b[1;33m[\u001b[0m\u001b[1;36m3\u001b[0m\u001b[1;33m]\u001b[0m \u001b[1;33m==\u001b[0m \u001b[1;36m1\u001b[0m\u001b[1;33m:\u001b[0m\u001b[1;33m\u001b[0m\u001b[1;33m\u001b[0m\u001b[0m\n",
      "\u001b[1;32m~\\AppData\\Roaming\\Python\\Python38\\site-packages\\nilearn\\_utils\\niimg.py\u001b[0m in \u001b[0;36mload_niimg\u001b[1;34m(niimg, dtype)\u001b[0m\n\u001b[0;32m    132\u001b[0m                         + _repr_niimgs(niimg, shorten=True))\n\u001b[0;32m    133\u001b[0m \u001b[1;33m\u001b[0m\u001b[0m\n\u001b[1;32m--> 134\u001b[1;33m     \u001b[0mdtype\u001b[0m \u001b[1;33m=\u001b[0m \u001b[0m_get_target_dtype\u001b[0m\u001b[1;33m(\u001b[0m\u001b[0m_get_data\u001b[0m\u001b[1;33m(\u001b[0m\u001b[0mniimg\u001b[0m\u001b[1;33m)\u001b[0m\u001b[1;33m.\u001b[0m\u001b[0mdtype\u001b[0m\u001b[1;33m,\u001b[0m \u001b[0mdtype\u001b[0m\u001b[1;33m)\u001b[0m\u001b[1;33m\u001b[0m\u001b[1;33m\u001b[0m\u001b[0m\n\u001b[0m\u001b[0;32m    135\u001b[0m \u001b[1;33m\u001b[0m\u001b[0m\n\u001b[0;32m    136\u001b[0m     \u001b[1;32mif\u001b[0m \u001b[0mdtype\u001b[0m \u001b[1;32mis\u001b[0m \u001b[1;32mnot\u001b[0m \u001b[1;32mNone\u001b[0m\u001b[1;33m:\u001b[0m\u001b[1;33m\u001b[0m\u001b[1;33m\u001b[0m\u001b[0m\n",
      "\u001b[1;32m~\\AppData\\Roaming\\Python\\Python38\\site-packages\\nilearn\\_utils\\niimg.py\u001b[0m in \u001b[0;36m_get_data\u001b[1;34m(img)\u001b[0m\n\u001b[0;32m     22\u001b[0m     \u001b[1;32mif\u001b[0m \u001b[0mimg\u001b[0m\u001b[1;33m.\u001b[0m\u001b[0m_data_cache\u001b[0m \u001b[1;32mis\u001b[0m \u001b[1;32mnot\u001b[0m \u001b[1;32mNone\u001b[0m\u001b[1;33m:\u001b[0m\u001b[1;33m\u001b[0m\u001b[1;33m\u001b[0m\u001b[0m\n\u001b[0;32m     23\u001b[0m         \u001b[1;32mreturn\u001b[0m \u001b[0mimg\u001b[0m\u001b[1;33m.\u001b[0m\u001b[0m_data_cache\u001b[0m\u001b[1;33m\u001b[0m\u001b[1;33m\u001b[0m\u001b[0m\n\u001b[1;32m---> 24\u001b[1;33m     \u001b[0mdata\u001b[0m \u001b[1;33m=\u001b[0m \u001b[0mnp\u001b[0m\u001b[1;33m.\u001b[0m\u001b[0masanyarray\u001b[0m\u001b[1;33m(\u001b[0m\u001b[0mimg\u001b[0m\u001b[1;33m.\u001b[0m\u001b[0m_dataobj\u001b[0m\u001b[1;33m)\u001b[0m\u001b[1;33m\u001b[0m\u001b[1;33m\u001b[0m\u001b[0m\n\u001b[0m\u001b[0;32m     25\u001b[0m     \u001b[0mimg\u001b[0m\u001b[1;33m.\u001b[0m\u001b[0m_data_cache\u001b[0m \u001b[1;33m=\u001b[0m \u001b[0mdata\u001b[0m\u001b[1;33m\u001b[0m\u001b[1;33m\u001b[0m\u001b[0m\n\u001b[0;32m     26\u001b[0m     \u001b[1;32mreturn\u001b[0m \u001b[0mdata\u001b[0m\u001b[1;33m\u001b[0m\u001b[1;33m\u001b[0m\u001b[0m\n",
      "\u001b[1;32m~\\anaconda3\\lib\\site-packages\\numpy\\core\\_asarray.py\u001b[0m in \u001b[0;36masanyarray\u001b[1;34m(a, dtype, order)\u001b[0m\n\u001b[0;32m    136\u001b[0m \u001b[1;33m\u001b[0m\u001b[0m\n\u001b[0;32m    137\u001b[0m     \"\"\"\n\u001b[1;32m--> 138\u001b[1;33m     \u001b[1;32mreturn\u001b[0m \u001b[0marray\u001b[0m\u001b[1;33m(\u001b[0m\u001b[0ma\u001b[0m\u001b[1;33m,\u001b[0m \u001b[0mdtype\u001b[0m\u001b[1;33m,\u001b[0m \u001b[0mcopy\u001b[0m\u001b[1;33m=\u001b[0m\u001b[1;32mFalse\u001b[0m\u001b[1;33m,\u001b[0m \u001b[0morder\u001b[0m\u001b[1;33m=\u001b[0m\u001b[0morder\u001b[0m\u001b[1;33m,\u001b[0m \u001b[0msubok\u001b[0m\u001b[1;33m=\u001b[0m\u001b[1;32mTrue\u001b[0m\u001b[1;33m)\u001b[0m\u001b[1;33m\u001b[0m\u001b[1;33m\u001b[0m\u001b[0m\n\u001b[0m\u001b[0;32m    139\u001b[0m \u001b[1;33m\u001b[0m\u001b[0m\n\u001b[0;32m    140\u001b[0m \u001b[1;33m\u001b[0m\u001b[0m\n",
      "\u001b[1;32m~\\AppData\\Roaming\\Python\\Python38\\site-packages\\nibabel\\arrayproxy.py\u001b[0m in \u001b[0;36m__array__\u001b[1;34m(self, dtype)\u001b[0m\n\u001b[0;32m    389\u001b[0m             \u001b[0mScaled\u001b[0m \u001b[0mimage\u001b[0m \u001b[0mdata\u001b[0m \u001b[1;32mwith\u001b[0m \u001b[0mtype\u001b[0m\u001b[0;31m \u001b[0m\u001b[0;31m`\u001b[0m\u001b[0mdtype\u001b[0m\u001b[0;31m`\u001b[0m\u001b[1;33m.\u001b[0m\u001b[1;33m\u001b[0m\u001b[1;33m\u001b[0m\u001b[0m\n\u001b[0;32m    390\u001b[0m         \"\"\"\n\u001b[1;32m--> 391\u001b[1;33m         \u001b[0marr\u001b[0m \u001b[1;33m=\u001b[0m \u001b[0mself\u001b[0m\u001b[1;33m.\u001b[0m\u001b[0m_get_scaled\u001b[0m\u001b[1;33m(\u001b[0m\u001b[0mdtype\u001b[0m\u001b[1;33m=\u001b[0m\u001b[0mdtype\u001b[0m\u001b[1;33m,\u001b[0m \u001b[0mslicer\u001b[0m\u001b[1;33m=\u001b[0m\u001b[1;33m(\u001b[0m\u001b[1;33m)\u001b[0m\u001b[1;33m)\u001b[0m\u001b[1;33m\u001b[0m\u001b[1;33m\u001b[0m\u001b[0m\n\u001b[0m\u001b[0;32m    392\u001b[0m         \u001b[1;32mif\u001b[0m \u001b[0mdtype\u001b[0m \u001b[1;32mis\u001b[0m \u001b[1;32mnot\u001b[0m \u001b[1;32mNone\u001b[0m\u001b[1;33m:\u001b[0m\u001b[1;33m\u001b[0m\u001b[1;33m\u001b[0m\u001b[0m\n\u001b[0;32m    393\u001b[0m             \u001b[0marr\u001b[0m \u001b[1;33m=\u001b[0m \u001b[0marr\u001b[0m\u001b[1;33m.\u001b[0m\u001b[0mastype\u001b[0m\u001b[1;33m(\u001b[0m\u001b[0mdtype\u001b[0m\u001b[1;33m,\u001b[0m \u001b[0mcopy\u001b[0m\u001b[1;33m=\u001b[0m\u001b[1;32mFalse\u001b[0m\u001b[1;33m)\u001b[0m\u001b[1;33m\u001b[0m\u001b[1;33m\u001b[0m\u001b[0m\n",
      "\u001b[1;32m~\\AppData\\Roaming\\Python\\Python38\\site-packages\\nibabel\\arrayproxy.py\u001b[0m in \u001b[0;36m_get_scaled\u001b[1;34m(self, dtype, slicer)\u001b[0m\n\u001b[0;32m    356\u001b[0m             \u001b[0mscl_inter\u001b[0m \u001b[1;33m=\u001b[0m \u001b[0mscl_inter\u001b[0m\u001b[1;33m.\u001b[0m\u001b[0mastype\u001b[0m\u001b[1;33m(\u001b[0m\u001b[0muse_dtype\u001b[0m\u001b[1;33m)\u001b[0m\u001b[1;33m\u001b[0m\u001b[1;33m\u001b[0m\u001b[0m\n\u001b[0;32m    357\u001b[0m         \u001b[1;31m# Read array and upcast as necessary for big slopes, intercepts\u001b[0m\u001b[1;33m\u001b[0m\u001b[1;33m\u001b[0m\u001b[1;33m\u001b[0m\u001b[0m\n\u001b[1;32m--> 358\u001b[1;33m         \u001b[0mscaled\u001b[0m \u001b[1;33m=\u001b[0m \u001b[0mapply_read_scaling\u001b[0m\u001b[1;33m(\u001b[0m\u001b[0mself\u001b[0m\u001b[1;33m.\u001b[0m\u001b[0m_get_unscaled\u001b[0m\u001b[1;33m(\u001b[0m\u001b[0mslicer\u001b[0m\u001b[1;33m=\u001b[0m\u001b[0mslicer\u001b[0m\u001b[1;33m)\u001b[0m\u001b[1;33m,\u001b[0m \u001b[0mscl_slope\u001b[0m\u001b[1;33m,\u001b[0m \u001b[0mscl_inter\u001b[0m\u001b[1;33m)\u001b[0m\u001b[1;33m\u001b[0m\u001b[1;33m\u001b[0m\u001b[0m\n\u001b[0m\u001b[0;32m    359\u001b[0m         \u001b[1;32mif\u001b[0m \u001b[0mdtype\u001b[0m \u001b[1;32mis\u001b[0m \u001b[1;32mnot\u001b[0m \u001b[1;32mNone\u001b[0m\u001b[1;33m:\u001b[0m\u001b[1;33m\u001b[0m\u001b[1;33m\u001b[0m\u001b[0m\n\u001b[0;32m    360\u001b[0m             \u001b[0mscaled\u001b[0m \u001b[1;33m=\u001b[0m \u001b[0mscaled\u001b[0m\u001b[1;33m.\u001b[0m\u001b[0mastype\u001b[0m\u001b[1;33m(\u001b[0m\u001b[0mnp\u001b[0m\u001b[1;33m.\u001b[0m\u001b[0mpromote_types\u001b[0m\u001b[1;33m(\u001b[0m\u001b[0mscaled\u001b[0m\u001b[1;33m.\u001b[0m\u001b[0mdtype\u001b[0m\u001b[1;33m,\u001b[0m \u001b[0mdtype\u001b[0m\u001b[1;33m)\u001b[0m\u001b[1;33m,\u001b[0m \u001b[0mcopy\u001b[0m\u001b[1;33m=\u001b[0m\u001b[1;32mFalse\u001b[0m\u001b[1;33m)\u001b[0m\u001b[1;33m\u001b[0m\u001b[1;33m\u001b[0m\u001b[0m\n",
      "\u001b[1;32m~\\AppData\\Roaming\\Python\\Python38\\site-packages\\nibabel\\arrayproxy.py\u001b[0m in \u001b[0;36m_get_unscaled\u001b[1;34m(self, slicer)\u001b[0m\n\u001b[0;32m    330\u001b[0m                 \u001b[0mcanonical_slicers\u001b[0m\u001b[1;33m(\u001b[0m\u001b[1;33m(\u001b[0m\u001b[1;33m)\u001b[0m\u001b[1;33m,\u001b[0m \u001b[0mself\u001b[0m\u001b[1;33m.\u001b[0m\u001b[0m_shape\u001b[0m\u001b[1;33m,\u001b[0m \u001b[1;32mFalse\u001b[0m\u001b[1;33m)\u001b[0m\u001b[1;33m:\u001b[0m\u001b[1;33m\u001b[0m\u001b[1;33m\u001b[0m\u001b[0m\n\u001b[0;32m    331\u001b[0m             \u001b[1;32mwith\u001b[0m \u001b[0mself\u001b[0m\u001b[1;33m.\u001b[0m\u001b[0m_get_fileobj\u001b[0m\u001b[1;33m(\u001b[0m\u001b[1;33m)\u001b[0m \u001b[1;32mas\u001b[0m \u001b[0mfileobj\u001b[0m\u001b[1;33m,\u001b[0m \u001b[0mself\u001b[0m\u001b[1;33m.\u001b[0m\u001b[0m_lock\u001b[0m\u001b[1;33m:\u001b[0m\u001b[1;33m\u001b[0m\u001b[1;33m\u001b[0m\u001b[0m\n\u001b[1;32m--> 332\u001b[1;33m                 return array_from_file(self._shape,\n\u001b[0m\u001b[0;32m    333\u001b[0m                                        \u001b[0mself\u001b[0m\u001b[1;33m.\u001b[0m\u001b[0m_dtype\u001b[0m\u001b[1;33m,\u001b[0m\u001b[1;33m\u001b[0m\u001b[1;33m\u001b[0m\u001b[0m\n\u001b[0;32m    334\u001b[0m                                        \u001b[0mfileobj\u001b[0m\u001b[1;33m,\u001b[0m\u001b[1;33m\u001b[0m\u001b[1;33m\u001b[0m\u001b[0m\n",
      "\u001b[1;32m~\\AppData\\Roaming\\Python\\Python38\\site-packages\\nibabel\\volumeutils.py\u001b[0m in \u001b[0;36marray_from_file\u001b[1;34m(shape, in_dtype, infile, offset, order, mmap)\u001b[0m\n\u001b[0;32m    520\u001b[0m     \u001b[1;32mif\u001b[0m \u001b[0mhasattr\u001b[0m\u001b[1;33m(\u001b[0m\u001b[0minfile\u001b[0m\u001b[1;33m,\u001b[0m \u001b[1;34m'readinto'\u001b[0m\u001b[1;33m)\u001b[0m\u001b[1;33m:\u001b[0m\u001b[1;33m\u001b[0m\u001b[1;33m\u001b[0m\u001b[0m\n\u001b[0;32m    521\u001b[0m         \u001b[0mdata_bytes\u001b[0m \u001b[1;33m=\u001b[0m \u001b[0mbytearray\u001b[0m\u001b[1;33m(\u001b[0m\u001b[0mn_bytes\u001b[0m\u001b[1;33m)\u001b[0m\u001b[1;33m\u001b[0m\u001b[1;33m\u001b[0m\u001b[0m\n\u001b[1;32m--> 522\u001b[1;33m         \u001b[0mn_read\u001b[0m \u001b[1;33m=\u001b[0m \u001b[0minfile\u001b[0m\u001b[1;33m.\u001b[0m\u001b[0mreadinto\u001b[0m\u001b[1;33m(\u001b[0m\u001b[0mdata_bytes\u001b[0m\u001b[1;33m)\u001b[0m\u001b[1;33m\u001b[0m\u001b[1;33m\u001b[0m\u001b[0m\n\u001b[0m\u001b[0;32m    523\u001b[0m         \u001b[0mneeds_copy\u001b[0m \u001b[1;33m=\u001b[0m \u001b[1;32mFalse\u001b[0m\u001b[1;33m\u001b[0m\u001b[1;33m\u001b[0m\u001b[0m\n\u001b[0;32m    524\u001b[0m     \u001b[1;32melse\u001b[0m\u001b[1;33m:\u001b[0m\u001b[1;33m\u001b[0m\u001b[1;33m\u001b[0m\u001b[0m\n",
      "\u001b[1;32m~\\anaconda3\\lib\\gzip.py\u001b[0m in \u001b[0;36mread\u001b[1;34m(self, size)\u001b[0m\n\u001b[0;32m    290\u001b[0m             \u001b[1;32mimport\u001b[0m \u001b[0merrno\u001b[0m\u001b[1;33m\u001b[0m\u001b[1;33m\u001b[0m\u001b[0m\n\u001b[0;32m    291\u001b[0m             \u001b[1;32mraise\u001b[0m \u001b[0mOSError\u001b[0m\u001b[1;33m(\u001b[0m\u001b[0merrno\u001b[0m\u001b[1;33m.\u001b[0m\u001b[0mEBADF\u001b[0m\u001b[1;33m,\u001b[0m \u001b[1;34m\"read() on write-only GzipFile object\"\u001b[0m\u001b[1;33m)\u001b[0m\u001b[1;33m\u001b[0m\u001b[1;33m\u001b[0m\u001b[0m\n\u001b[1;32m--> 292\u001b[1;33m         \u001b[1;32mreturn\u001b[0m \u001b[0mself\u001b[0m\u001b[1;33m.\u001b[0m\u001b[0m_buffer\u001b[0m\u001b[1;33m.\u001b[0m\u001b[0mread\u001b[0m\u001b[1;33m(\u001b[0m\u001b[0msize\u001b[0m\u001b[1;33m)\u001b[0m\u001b[1;33m\u001b[0m\u001b[1;33m\u001b[0m\u001b[0m\n\u001b[0m\u001b[0;32m    293\u001b[0m \u001b[1;33m\u001b[0m\u001b[0m\n\u001b[0;32m    294\u001b[0m     \u001b[1;32mdef\u001b[0m \u001b[0mread1\u001b[0m\u001b[1;33m(\u001b[0m\u001b[0mself\u001b[0m\u001b[1;33m,\u001b[0m \u001b[0msize\u001b[0m\u001b[1;33m=\u001b[0m\u001b[1;33m-\u001b[0m\u001b[1;36m1\u001b[0m\u001b[1;33m)\u001b[0m\u001b[1;33m:\u001b[0m\u001b[1;33m\u001b[0m\u001b[1;33m\u001b[0m\u001b[0m\n",
      "\u001b[1;32m~\\anaconda3\\lib\\_compression.py\u001b[0m in \u001b[0;36mreadinto\u001b[1;34m(self, b)\u001b[0m\n\u001b[0;32m     66\u001b[0m     \u001b[1;32mdef\u001b[0m \u001b[0mreadinto\u001b[0m\u001b[1;33m(\u001b[0m\u001b[0mself\u001b[0m\u001b[1;33m,\u001b[0m \u001b[0mb\u001b[0m\u001b[1;33m)\u001b[0m\u001b[1;33m:\u001b[0m\u001b[1;33m\u001b[0m\u001b[1;33m\u001b[0m\u001b[0m\n\u001b[0;32m     67\u001b[0m         \u001b[1;32mwith\u001b[0m \u001b[0mmemoryview\u001b[0m\u001b[1;33m(\u001b[0m\u001b[0mb\u001b[0m\u001b[1;33m)\u001b[0m \u001b[1;32mas\u001b[0m \u001b[0mview\u001b[0m\u001b[1;33m,\u001b[0m \u001b[0mview\u001b[0m\u001b[1;33m.\u001b[0m\u001b[0mcast\u001b[0m\u001b[1;33m(\u001b[0m\u001b[1;34m\"B\"\u001b[0m\u001b[1;33m)\u001b[0m \u001b[1;32mas\u001b[0m \u001b[0mbyte_view\u001b[0m\u001b[1;33m:\u001b[0m\u001b[1;33m\u001b[0m\u001b[1;33m\u001b[0m\u001b[0m\n\u001b[1;32m---> 68\u001b[1;33m             \u001b[0mdata\u001b[0m \u001b[1;33m=\u001b[0m \u001b[0mself\u001b[0m\u001b[1;33m.\u001b[0m\u001b[0mread\u001b[0m\u001b[1;33m(\u001b[0m\u001b[0mlen\u001b[0m\u001b[1;33m(\u001b[0m\u001b[0mbyte_view\u001b[0m\u001b[1;33m)\u001b[0m\u001b[1;33m)\u001b[0m\u001b[1;33m\u001b[0m\u001b[1;33m\u001b[0m\u001b[0m\n\u001b[0m\u001b[0;32m     69\u001b[0m             \u001b[0mbyte_view\u001b[0m\u001b[1;33m[\u001b[0m\u001b[1;33m:\u001b[0m\u001b[0mlen\u001b[0m\u001b[1;33m(\u001b[0m\u001b[0mdata\u001b[0m\u001b[1;33m)\u001b[0m\u001b[1;33m]\u001b[0m \u001b[1;33m=\u001b[0m \u001b[0mdata\u001b[0m\u001b[1;33m\u001b[0m\u001b[1;33m\u001b[0m\u001b[0m\n\u001b[0;32m     70\u001b[0m         \u001b[1;32mreturn\u001b[0m \u001b[0mlen\u001b[0m\u001b[1;33m(\u001b[0m\u001b[0mdata\u001b[0m\u001b[1;33m)\u001b[0m\u001b[1;33m\u001b[0m\u001b[1;33m\u001b[0m\u001b[0m\n",
      "\u001b[1;32m~\\anaconda3\\lib\\gzip.py\u001b[0m in \u001b[0;36mread\u001b[1;34m(self, size)\u001b[0m\n\u001b[0;32m    485\u001b[0m             \u001b[0mbuf\u001b[0m \u001b[1;33m=\u001b[0m \u001b[0mself\u001b[0m\u001b[1;33m.\u001b[0m\u001b[0m_fp\u001b[0m\u001b[1;33m.\u001b[0m\u001b[0mread\u001b[0m\u001b[1;33m(\u001b[0m\u001b[0mio\u001b[0m\u001b[1;33m.\u001b[0m\u001b[0mDEFAULT_BUFFER_SIZE\u001b[0m\u001b[1;33m)\u001b[0m\u001b[1;33m\u001b[0m\u001b[1;33m\u001b[0m\u001b[0m\n\u001b[0;32m    486\u001b[0m \u001b[1;33m\u001b[0m\u001b[0m\n\u001b[1;32m--> 487\u001b[1;33m             \u001b[0muncompress\u001b[0m \u001b[1;33m=\u001b[0m \u001b[0mself\u001b[0m\u001b[1;33m.\u001b[0m\u001b[0m_decompressor\u001b[0m\u001b[1;33m.\u001b[0m\u001b[0mdecompress\u001b[0m\u001b[1;33m(\u001b[0m\u001b[0mbuf\u001b[0m\u001b[1;33m,\u001b[0m \u001b[0msize\u001b[0m\u001b[1;33m)\u001b[0m\u001b[1;33m\u001b[0m\u001b[1;33m\u001b[0m\u001b[0m\n\u001b[0m\u001b[0;32m    488\u001b[0m             \u001b[1;32mif\u001b[0m \u001b[0mself\u001b[0m\u001b[1;33m.\u001b[0m\u001b[0m_decompressor\u001b[0m\u001b[1;33m.\u001b[0m\u001b[0munconsumed_tail\u001b[0m \u001b[1;33m!=\u001b[0m \u001b[1;34mb\"\"\u001b[0m\u001b[1;33m:\u001b[0m\u001b[1;33m\u001b[0m\u001b[1;33m\u001b[0m\u001b[0m\n\u001b[0;32m    489\u001b[0m                 \u001b[0mself\u001b[0m\u001b[1;33m.\u001b[0m\u001b[0m_fp\u001b[0m\u001b[1;33m.\u001b[0m\u001b[0mprepend\u001b[0m\u001b[1;33m(\u001b[0m\u001b[0mself\u001b[0m\u001b[1;33m.\u001b[0m\u001b[0m_decompressor\u001b[0m\u001b[1;33m.\u001b[0m\u001b[0munconsumed_tail\u001b[0m\u001b[1;33m)\u001b[0m\u001b[1;33m\u001b[0m\u001b[1;33m\u001b[0m\u001b[0m\n",
      "\u001b[1;31mKeyboardInterrupt\u001b[0m: "
     ]
    }
   ],
   "source": [
    "# One vs Rest Classifier\n",
    "\n",
    "for subject in subjects:\n",
    "    \n",
    "    haxby_path = haxby_dataset.func[subject]\n",
    "    behavioral = pd.read_csv(haxby_dataset.session_target[subject], sep=\" \")\n",
    "    runs_all = behavioral['chunks'].values\n",
    "    conditions_all = behavioral['labels'].values\n",
    "    nruns = len(np.unique(runs_all))\n",
    "\n",
    "    # select all conditions except rest\n",
    "    condition_idx = ~behavioral['labels'].isin(['rest'])\n",
    "    runs = runs_all[condition_idx]\n",
    "    conditions = conditions_all[condition_idx]\n",
    "\n",
    "    nifti_masker = NiftiMasker(standardize=True, runs=runs_all, detrend=True,\n",
    "                mask_strategy='epi', smoothing_fwhm=4, high_pass=1/128, t_r=2.5)\n",
    "\n",
    "\n",
    "    nifti_masker.fit(haxby_path)\n",
    "    mask_img = nifti_masker.mask_img_\n",
    "    fmri_masked = nifti_masker.transform(haxby_path)\n",
    "\n",
    "    cdata = fmri_masked[np.where(condition_idx)[0], :]\n",
    "\n",
    "    clf = make_pipeline(StandardScaler(), OneVsRestClassifier(SVC(kernel='linear')))\n",
    "    fold_acc = np.empty([nruns])\n",
    "    \n",
    "    print('*****')\n",
    "    print('Subject ', (subject + 1))\n",
    "    \n",
    "    for cfold in range(0, nruns):\n",
    "        test_data = cdata[np.where(runs == cfold)[0], :]\n",
    "        test_labels = conditions[np.where(runs == cfold)[0]]\n",
    "        train_data = cdata[np.where(runs != cfold)[0], :]\n",
    "        train_labels = conditions[np.where(runs != cfold)[0]]\n",
    "        cclf = clf.fit(train_data, train_labels)\n",
    "        fold_acc[cfold] = cclf.score(test_data, test_labels)\n",
    "        print('Fold: {0:3d}'.format(cfold), end='')\n",
    "        print(' | {0:6.2f}'.format(fold_acc[cfold]*100), end='%')\n",
    "        print(' | Done!')\n",
    "\n",
    "    print(' ')\n",
    "    print('Final Accuracy: {0:6.2f}'.format(np.mean(fold_acc)*100), end='%')\n",
    "    print(' ')\n",
    "    "
   ]
  },
  {
   "cell_type": "code",
   "execution_count": null,
   "metadata": {},
   "outputs": [],
   "source": []
  },
  {
   "cell_type": "code",
   "execution_count": null,
   "metadata": {},
   "outputs": [],
   "source": []
  },
  {
   "cell_type": "code",
   "execution_count": null,
   "metadata": {},
   "outputs": [],
   "source": []
  },
  {
   "cell_type": "code",
   "execution_count": 98,
   "metadata": {},
   "outputs": [
    {
     "name": "stdout",
     "output_type": "stream",
     "text": [
      "*****\n",
      "\n",
      " Subject  1\n",
      "{'SVC__C': 0.01}\n",
      "*****\n",
      "\n",
      " Subject  2\n",
      "{'SVC__C': 0.01}\n",
      "*****\n",
      "\n",
      " Subject  3\n",
      "{'SVC__C': 0.01}\n",
      "*****\n",
      "\n",
      " Subject  4\n",
      "{'SVC__C': 0.01}\n"
     ]
    }
   ],
   "source": [
    "# 1.c Hyperparameter tuning\n",
    "\n",
    "\n",
    "for subject in subjects:\n",
    "    \n",
    "    haxby_path = haxby_dataset.func[subject]\n",
    "    behavioral = pd.read_csv(haxby_dataset.session_target[subject], sep=\" \")\n",
    "    runs_all = behavioral['chunks'].values\n",
    "    conditions_all = behavioral['labels'].values\n",
    "    nruns = len(np.unique(runs_all))\n",
    "\n",
    "    # select all conditions except rest\n",
    "    condition_idx = ~behavioral['labels'].isin(['rest'])\n",
    "    runs = runs_all[condition_idx]\n",
    "    conditions = conditions_all[condition_idx]\n",
    "\n",
    "    nifti_masker = NiftiMasker(standardize=True, runs=runs_all, detrend=True,\n",
    "                mask_strategy='epi', smoothing_fwhm=4, high_pass=1/128, t_r=2.5)\n",
    "\n",
    "\n",
    "    nifti_masker.fit(haxby_path)\n",
    "    mask_img = nifti_masker.mask_img_\n",
    "    fmri_masked = nifti_masker.transform(haxby_path)\n",
    "\n",
    "    cdata = fmri_masked[np.where(condition_idx)[0], :]\n",
    "\n",
    "    clf = Pipeline([('scale', StandardScaler()),\n",
    "                   ('SVC', svm.LinearSVC())])\n",
    "    \n",
    "    \n",
    "    train_data, test_data, train_labels, test_labels = train_test_split(cdata, conditions, test_size=0.3, random_state=42)\n",
    "    \n",
    "    print('Best C value: ')\n",
    "    print('*****')\n",
    "    print('\\n Subject ', (subject + 1))\n",
    "    \n",
    "    param_grid = {'SVC__C': np.arange(0.01,100,10)}\n",
    "   \n",
    "    # Grid search to evaluate C values between 0.01 and 100\n",
    "    linearSVC = GridSearchCV(clf, param_grid, cv=5, return_train_score=True)\n",
    "    linearSVC.fit(train_data, train_labels)\n",
    "    print(linearSVC.best_params_)\n",
    "    print(' ')\n",
    "    \n",
    "    "
   ]
  },
  {
   "cell_type": "code",
   "execution_count": null,
   "metadata": {},
   "outputs": [],
   "source": []
  },
  {
   "cell_type": "code",
   "execution_count": 100,
   "metadata": {},
   "outputs": [],
   "source": [
    "#Problem 2 - How does gamma affect regularization?\n",
    "\n",
    "import matplotlib.pyplot as plt\n",
    "from matplotlib.colors import Normalize\n",
    "from sklearn.model_selection import StratifiedShuffleSplit"
   ]
  },
  {
   "cell_type": "code",
   "execution_count": 132,
   "metadata": {},
   "outputs": [
    {
     "name": "stdout",
     "output_type": "stream",
     "text": [
      "The best parameters are {'SVC__C': 10.0, 'SVC__gamma': 1e-05} with a score of 0.90\n"
     ]
    }
   ],
   "source": [
    "# Hyperparameter tuning shown just on subject 1 with only faces and houses to reduce computing time\n",
    "\n",
    "haxby_path = haxby_dataset.func[0]\n",
    "behavioral = pd.read_csv(haxby_dataset.session_target[0], sep=\" \")\n",
    "runs_all = behavioral['chunks'].values\n",
    "conditions_all = behavioral['labels'].values\n",
    "nruns = len(np.unique(runs_all))\n",
    "\n",
    "# select all conditions except rest\n",
    "condition_idx = behavioral['labels'].isin(['face', 'house'])\n",
    "runs = runs_all[condition_idx]\n",
    "conditions = conditions_all[condition_idx]\n",
    "\n",
    "nifti_masker = NiftiMasker(standardize=True, runs=runs_all, detrend=True,\n",
    "                mask_strategy='epi', smoothing_fwhm=4, high_pass=1/128, t_r=2.5)\n",
    "\n",
    "\n",
    "nifti_masker.fit(haxby_path)\n",
    "mask_img = nifti_masker.mask_img_\n",
    "fmri_masked = nifti_masker.transform(haxby_path)\n",
    "\n",
    "cdata = fmri_masked[np.where(condition_idx)[0], :]\n",
    "\n",
    "clf = Pipeline([('scale', StandardScaler()),\n",
    "                   ('SVC', SVC())])\n",
    "    \n",
    "train_data, test_data, train_labels, test_labels = train_test_split(cdata, conditions, test_size=0.3, random_state=42)\n",
    "    \n",
    "    \n",
    "C_range = np.logspace(-2, 10, 13)\n",
    "gamma_range = np.logspace(-9, 3, 13)\n",
    "param_grid = dict(SVC__gamma=gamma_range, SVC__C=C_range)\n",
    "\n",
    "cv = StratifiedShuffleSplit(n_splits=5, test_size=0.2, random_state=42)\n",
    "grid = GridSearchCV(clf, param_grid=param_grid, cv=cv)\n",
    "grid.fit(train_data, train_labels)\n",
    "\n",
    "print(\"The best parameters are %s with a score of %0.2f\"\n",
    "    % (grid.best_params_, grid.best_score_))"
   ]
  },
  {
   "cell_type": "code",
   "execution_count": 121,
   "metadata": {},
   "outputs": [
    {
     "data": {
      "text/plain": [
       "(151, 23707)"
      ]
     },
     "execution_count": 121,
     "metadata": {},
     "output_type": "execute_result"
    }
   ],
   "source": []
  },
  {
   "cell_type": "code",
   "execution_count": 131,
   "metadata": {},
   "outputs": [
    {
     "data": {
      "image/png": "[encoded data removed]",
      "text/plain": [
       "<Figure size 576x432 with 2 Axes>"
      ]
     },
     "metadata": {
      "needs_background": "light"
     },
     "output_type": "display_data"
    }
   ],
   "source": [
    "# Visualization of parameter effects\n",
    "\n",
    "# lower gamma means each training sample has more influence, larger gamma increases overfitting\n",
    "\n",
    "scores = grid.cv_results_['mean_test_score'].reshape(len(C_range),\n",
    "                                                     len(gamma_range))\n",
    "\n",
    "plt.figure(figsize=(8, 6))\n",
    "plt.subplots_adjust(left=.2, right=0.95, bottom=0.15, top=0.95)\n",
    "plt.imshow(scores, interpolation='nearest', cmap=plt.cm.hot,\n",
    "           norm=MidpointNormalize(vmin=0.2, midpoint=0.92))\n",
    "plt.xlabel('gamma')\n",
    "plt.ylabel('C')\n",
    "plt.colorbar()\n",
    "plt.xticks(np.arange(len(gamma_range)), gamma_range, rotation=45)\n",
    "plt.yticks(np.arange(len(C_range)), C_range)\n",
    "plt.title('Validation accuracy')\n",
    "plt.show()"
   ]
  },
  {
   "cell_type": "code",
   "execution_count": null,
   "metadata": {},
   "outputs": [],
   "source": []
  },
  {
   "cell_type": "code",
   "execution_count": null,
   "metadata": {},
   "outputs": [],
   "source": []
  },
  {
   "cell_type": "code",
   "execution_count": null,
   "metadata": {},
   "outputs": [],
   "source": []
  },
  {
   "cell_type": "code",
   "execution_count": null,
   "metadata": {},
   "outputs": [],
   "source": []
  }
 ],
 "metadata": {
  "kernelspec": {
   "display_name": "Python 3",
   "language": "python",
   "name": "python3"
  },
  "language_info": {
   "codemirror_mode": {
    "name": "ipython",
    "version": 3
   },
   "file_extension": ".py",
   "mimetype": "text/x-python",
   "name": "python",
   "nbconvert_exporter": "python",
   "pygments_lexer": "ipython3",
   "version": "3.8.3"
  }
 },
 "nbformat": 4,
 "nbformat_minor": 4
}
